{
 "cells": [
  {
   "cell_type": "code",
   "execution_count": null,
   "id": "smoking-least",
   "metadata": {},
   "outputs": [],
   "source": [
    "from ipyleaflet import Map, TileLayer, basemaps\n",
    "from ipyleaflet.velocity import Velocity\n",
    "from intake import open_catalog"
   ]
  },
  {
   "cell_type": "code",
   "execution_count": null,
   "id": "biblical-credit",
   "metadata": {},
   "outputs": [],
   "source": [
    "cat = open_catalog(\"https://raw.githubusercontent.com/pangeo-data/pangeo-datastore/master/intake-catalogs/ocean.yaml\")\n",
    "ds  = cat[\"sea_surface_height\"].to_dask()\n",
    "ds"
   ]
  },
  {
   "cell_type": "code",
   "execution_count": null,
   "id": "productive-contrary",
   "metadata": {},
   "outputs": [],
   "source": [
    "center = [35, -50]\n",
    "zoom = 4\n",
    "m = Map(center=center, zoom=zoom, interpolation='nearest', basemap=basemaps.Gaode.Satellite)\n",
    "\n",
    "display_options = {\n",
    "    'velocityType': 'Global Wind',\n",
    "    'displayPosition': 'bottomleft',\n",
    "    'displayEmptyString': 'No wind data'\n",
    "}\n",
    "\n",
    "wind = Velocity(\n",
    "    data=ds.isel(time=-1), \n",
    "    zonal_speed='ugos', meridional_speed='vgos', \n",
    "    latitude_dimension='latitude', longitude_dimension='longitude', \n",
    "    velocity_scale=0.2, max_velocity=1, \n",
    "    display_options=display_options\n",
    ")\n",
    "\n",
    "m.add_layer(wind)\n",
    "\n",
    "m"
   ]
  },
  {
   "cell_type": "code",
   "execution_count": null,
   "id": "weird-voluntary",
   "metadata": {},
   "outputs": [],
   "source": []
  },
  {
   "cell_type": "code",
   "execution_count": null,
   "id": "ordered-condition",
   "metadata": {},
   "outputs": [],
   "source": []
  }
 ],
 "metadata": {
  "kernelspec": {
   "display_name": "Python 3",
   "language": "python",
   "name": "python3"
  },
  "language_info": {
   "codemirror_mode": {
    "name": "ipython",
    "version": 3
   },
   "file_extension": ".py",
   "mimetype": "text/x-python",
   "name": "python",
   "nbconvert_exporter": "python",
   "pygments_lexer": "ipython3",
   "version": "3.8.6"
  }
 },
 "nbformat": 4,
 "nbformat_minor": 5
}
